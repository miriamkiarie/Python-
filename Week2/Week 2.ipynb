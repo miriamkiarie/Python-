{
 "cells": [
  {
   "cell_type": "markdown",
   "metadata": {},
   "source": [
    "# Strings and file handling"
   ]
  },
  {
   "cell_type": "code",
   "execution_count": null,
   "metadata": {},
   "outputs": [],
   "source": [
    "import random\n",
    "\n",
    "def guessing_game():\n",
    "    number_to_guess = random.randint(1, 100)\n",
    "    attempts = 0\n",
    "    max_attempts = 5  # You can adjust this number as needed\n",
    "\n",
    "    print(\"Guess the number between 1 and 100!\")\n",
    "\n",
    "    while attempts < max_attempts:\n",
    "        try:\n",
    "            guess = int(input(\"Enter your guess: \"))\n",
    "            attempts += 1\n",
    "\n",
    "            if guess < number_to_guess:\n",
    "                print(\"Too low! Try again.\")\n",
    "            elif guess > number_to_guess:\n",
    "                print(\"Too high! Try again.\")\n",
    "            else:\n",
    "                print(f\"Congratulations! You guessed the number {number_to_guess} in {attempts} attempts!\")\n",
    "                return\n",
    "\n",
    "        except ValueError:\n",
    "            print(\"Invalid input. Please enter a valid number.\")\n",
    "\n",
    "    print(f\"Sorry, you did not guess the number. The correct number was {number_to_guess}.\")\n",
    "\n",
    "# Run the game\n",
    "guessing_game()\n"
   ]
  },
  {
   "cell_type": "code",
   "execution_count": null,
   "metadata": {},
   "outputs": [],
   "source": [
    "def calculator():\n",
    "    try:\n",
    "        num1 = float(input(\"Enter the first number: \"))\n",
    "        operator = input(\"Enter the operator (+, -, *, /): \")\n",
    "        num2 = float(input(\"Enter the second number: \"))\n",
    "\n",
    "        if operator == '+':\n",
    "            result = num1 + num2\n",
    "        elif operator == '-':\n",
    "            result = num1 - num2\n",
    "        elif operator == '*':\n",
    "            result = num1 * num2\n",
    "        elif operator == '/':\n",
    "            if num2 == 0:\n",
    "                print(\"Error: Division by zero!\")\n",
    "                return\n",
    "            else:\n",
    "                result = num1 / num2\n",
    "        else:\n",
    "            print(\"Invalid operator!\")\n",
    "            return\n",
    "\n",
    "        print(f\"{num1} {operator} {num2} = {result}\")\n",
    "\n",
    "    except ValueError:\n",
    "        print(\"Invalid input. Please enter valid numbers.\")\n",
    "\n",
    "# Run the calculator\n",
    "calculator()\n"
   ]
  },
  {
   "cell_type": "code",
   "execution_count": null,
   "metadata": {},
   "outputs": [],
   "source": [
    "def is_prime(number):\n",
    "    if number <= 1:\n",
    "        return False\n",
    "\n",
    "    divisor = 2\n",
    "    while divisor * divisor <= number:\n",
    "        if number % divisor == 0:\n",
    "            return False\n",
    "        divisor += 1\n",
    "\n",
    "    return True\n",
    "\n",
    "# Test the prime number function\n",
    "num = int(input(\"Enter a number to check if it's prime: \"))\n",
    "if is_prime(num):\n",
    "    print(f\"{num} is a prime number.\")\n",
    "else:\n",
    "    print(f\"{num} is not a prime number.\")\n"
   ]
  },
  {
   "cell_type": "code",
   "execution_count": null,
   "metadata": {},
   "outputs": [],
   "source": [
    "def multiplication_table():\n",
    "    num = int(input(\"Enter a number to print its multiplication table: \"))\n",
    "    up_to = int(input(\"Enter how many multiples: \"))\n",
    "\n",
    "    for i in range(1, up_to + 1):\n",
    "        print(f\"{num} x {i} = {num * i}\")\n",
    "\n",
    "# Run the multiplication table generator\n",
    "multiplication_table()\n"
   ]
  },
  {
   "cell_type": "code",
   "execution_count": null,
   "metadata": {},
   "outputs": [],
   "source": [
    "def sum_of_numbers():\n",
    "    num = int(input(\"Enter a number to calculate the sum from 1 to that number: \"))\n",
    "    total = 0\n",
    "\n",
    "    for i in range(1, num + 1):\n",
    "        total += i\n",
    "\n",
    "    print(f\"The sum of numbers from 1 to {num} is {total}\")\n",
    "\n",
    "# Run the sum of numbers calculator\n",
    "sum_of_numbers()\n"
   ]
  },
  {
   "cell_type": "code",
   "execution_count": null,
   "metadata": {},
   "outputs": [],
   "source": [
    "import random\n",
    "\n",
    "def guessing_game_while():\n",
    "    number_to_guess = random.randint(1, 100)\n",
    "    attempts = 0\n",
    "    max_attempts = 5  # You can adjust this number as needed\n",
    "\n",
    "    print(\"Guess the number between 1 and 100!\")\n",
    "\n",
    "    while attempts < max_attempts:\n",
    "        try:\n",
    "            guess = int(input(\"Enter your guess: \"))\n",
    "            attempts += 1\n",
    "\n",
    "            if guess < number_to_guess:\n",
    "                print(\"Too low! Try again.\")\n",
    "            elif guess > number_to_guess:\n",
    "                print(\"Too high! Try again.\")\n",
    "            else:\n",
    "                print(f\"Congratulations! You guessed the number {number_to_guess} in {attempts} attempts!\")\n",
    "                return\n",
    "\n",
    "        except ValueError:\n",
    "            print(\"Invalid input. Please enter a valid number.\")\n",
    "\n",
    "    print(f\"Sorry, you did not guess the number. The correct number was {number_to_guess}.\")\n",
    "\n",
    "# Run the game using while loop\n",
    "guessing_game_while()\n"
   ]
  },
  {
   "cell_type": "code",
   "execution_count": null,
   "metadata": {},
   "outputs": [],
   "source": []
  },
  {
   "cell_type": "code",
   "execution_count": null,
   "metadata": {},
   "outputs": [],
   "source": []
  },
  {
   "cell_type": "code",
   "execution_count": null,
   "metadata": {},
   "outputs": [],
   "source": []
  }
 ],
 "metadata": {
  "kernelspec": {
   "display_name": "Python 3",
   "language": "python",
   "name": "python3"
  },
  "language_info": {
   "name": "python",
   "version": "3.12.3"
  }
 },
 "nbformat": 4,
 "nbformat_minor": 2
}

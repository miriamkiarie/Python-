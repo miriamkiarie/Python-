{
 "cells": [
  {
   "cell_type": "markdown",
   "metadata": {},
   "source": [
    "# Variables,expressions and statements."
   ]
  },
  {
   "cell_type": "code",
   "execution_count": 1,
   "metadata": {},
   "outputs": [
    {
     "name": "stdout",
     "output_type": "stream",
     "text": [
      "Welcome, Miriam!\n"
     ]
    }
   ],
   "source": [
    "# Write a program that uses input to prompt a user for their name and then welcomes them\n",
    "\n",
    "name = input(\"What is your name? \")\n",
    "\n",
    "\n",
    "print(f\"Welcome, {name}!\")\n"
   ]
  },
  {
   "cell_type": "code",
   "execution_count": 6,
   "metadata": {},
   "outputs": [
    {
     "name": "stdout",
     "output_type": "stream",
     "text": [
      "=75.0\n"
     ]
    }
   ],
   "source": [
    " # Write a program to prompt the user for hours and rate per hour to compute gross pay.\n",
    " \n",
    "Hours = float(input(\"Enter hours worked: \"))\n",
    "Rate_per_hour = float(input(\"Enter rate per hour: \"))\n",
    "\n",
    "Gross_Pay= Hours*Rate_per_hour\n",
    "print(f\"={Gross_Pay}\")\n",
    "\n"
   ]
  },
  {
   "cell_type": "code",
   "execution_count": 5,
   "metadata": {},
   "outputs": [
    {
     "name": "stdout",
     "output_type": "stream",
     "text": [
      "width // 2   -> Value: 8, Type: int\n",
      "width / 2.0  -> Value: 8.5, Type: float\n",
      "height / 3   -> Value: 4.0, Type: float\n",
      "1 + 2 * 5    -> Value: 11, Type: int\n"
     ]
    }
   ],
   "source": [
    "# Exercise 4: Assume that we execute the following assignment statements:\n",
    "\n",
    "width = 17\n",
    "height = 12.0\n",
    "#For each of the following expressions, write the value of the expression and the type (of the value of the expression).\n",
    "\n",
    "expr1=width//2\n",
    "\n",
    "\n",
    "expr2=width/2.0\n",
    "\n",
    "\n",
    "expr3=height/3\n",
    "\n",
    "\n",
    "expr4=1 + 2 * 5\n",
    "\n",
    "\n",
    "\n",
    "\n",
    "\n",
    "\n",
    "\n",
    "\n",
    "\n",
    "print(f\"width // 2   -> Value: {expr1}, Type: {type(expr1).__name__}\")\n",
    "print(f\"width / 2.0  -> Value: {expr2}, Type: {type(expr2).__name__}\")\n",
    "print(f\"height / 3   -> Value: {expr3}, Type: {type(expr3).__name__}\")\n",
    "print(f\"1 + 2 * 5    -> Value: {expr4}, Type: {type(expr4).__name__}\")"
   ]
  },
  {
   "cell_type": "code",
   "execution_count": 2,
   "metadata": {},
   "outputs": [
    {
     "name": "stdout",
     "output_type": "stream",
     "text": [
      "60.8\n"
     ]
    }
   ],
   "source": [
    "# Exercise 5: Write a program which prompts the user for a Celsius temperature, convert the temperature to Fahrenheit, and print out the converted temperature.\n",
    "Celcius=float(input(\"What is temperature in degree celcius?\"))\n",
    "Degree_Fahrenheit=Celcius*9/5+32\n",
    "print(Degree_Fahrenheit)"
   ]
  },
  {
   "cell_type": "markdown",
   "metadata": {},
   "source": [
    "# Conditional statements and loops"
   ]
  },
  {
   "cell_type": "code",
   "execution_count": null,
   "metadata": {},
   "outputs": [],
   "source": [
    "import random\n",
    "\n",
    "def guessing_game():\n",
    "    number_to_guess = random.randint(1, 100)\n",
    "    attempts = 0\n",
    "    max_attempts = 5  # You can adjust this number as needed\n",
    "\n",
    "    print(\"Guess the number between 1 and 100!\")\n",
    "\n",
    "    while attempts < max_attempts:\n",
    "        try:\n",
    "            guess = int(input(\"Enter your guess: \"))\n",
    "            attempts += 1\n",
    "\n",
    "            if guess < number_to_guess:\n",
    "                print(\"Too low! Try again.\")\n",
    "            elif guess > number_to_guess:\n",
    "                print(\"Too high! Try again.\")\n",
    "            else:\n",
    "                print(f\"Congratulations! You guessed the number {number_to_guess} in {attempts} attempts!\")\n",
    "                return\n",
    "\n",
    "        except ValueError:\n",
    "            print(\"Invalid input. Please enter a valid number.\")\n",
    "\n",
    "    print(f\"Sorry, you did not guess the number. The correct number was {number_to_guess}.\")\n",
    "\n",
    "# Run the game\n",
    "guessing_game()\n"
   ]
  },
  {
   "cell_type": "code",
   "execution_count": null,
   "metadata": {},
   "outputs": [],
   "source": [
    "def calculator():\n",
    "    try:\n",
    "        num1 = float(input(\"Enter the first number: \"))\n",
    "        operator = input(\"Enter the operator (+, -, *, /): \")\n",
    "        num2 = float(input(\"Enter the second number: \"))\n",
    "\n",
    "        if operator == '+':\n",
    "            result = num1 + num2\n",
    "        elif operator == '-':\n",
    "            result = num1 - num2\n",
    "        elif operator == '*':\n",
    "            result = num1 * num2\n",
    "        elif operator == '/':\n",
    "            if num2 == 0:\n",
    "                print(\"Error: Division by zero!\")\n",
    "                return\n",
    "            else:\n",
    "                result = num1 / num2\n",
    "        else:\n",
    "            print(\"Invalid operator!\")\n",
    "            return\n",
    "\n",
    "        print(f\"{num1} {operator} {num2} = {result}\")\n",
    "\n",
    "    except ValueError:\n",
    "        print(\"Invalid input. Please enter valid numbers.\")\n",
    "\n",
    "# Run the calculator\n",
    "calculator()\n"
   ]
  },
  {
   "cell_type": "code",
   "execution_count": null,
   "metadata": {},
   "outputs": [],
   "source": [
    "def is_prime(number):\n",
    "    if number <= 1:\n",
    "        return False\n",
    "\n",
    "    divisor = 2\n",
    "    while divisor * divisor <= number:\n",
    "        if number % divisor == 0:\n",
    "            return False\n",
    "        divisor += 1\n",
    "\n",
    "    return True\n",
    "\n",
    "# Test the prime number function\n",
    "num = int(input(\"Enter a number to check if it's prime: \"))\n",
    "if is_prime(num):\n",
    "    print(f\"{num} is a prime number.\")\n",
    "else:\n",
    "    print(f\"{num} is not a prime number.\")\n"
   ]
  },
  {
   "cell_type": "code",
   "execution_count": 2,
   "metadata": {},
   "outputs": [
    {
     "name": "stdout",
     "output_type": "stream",
     "text": [
      "The sum of numbers from 1 to 4 is 10\n"
     ]
    }
   ],
   "source": [
    "def sum_of_numbers():\n",
    "    num = int(input(\"Enter a number to calculate the sum from 1 to that number: \"))\n",
    "    total = 0\n",
    "\n",
    "    for i in range(1, num + 1):\n",
    "        total += i\n",
    "\n",
    "    print(f\"The sum of numbers from 1 to {num} is {total}\")\n",
    "\n",
    "# Run the sum of numbers calculator\n",
    "sum_of_numbers()\n"
   ]
  },
  {
   "cell_type": "code",
   "execution_count": 1,
   "metadata": {},
   "outputs": [
    {
     "name": "stdout",
     "output_type": "stream",
     "text": [
      "*\n",
      "**\n",
      "***\n",
      "****\n",
      "*****\n"
     ]
    }
   ],
   "source": [
    "def print_triangle(rows):\n",
    "    for i in range(1, rows + 1):\n",
    "        print('*' * i)\n",
    "\n",
    "# Run the triangle pattern printer\n",
    "rows = int(input(\"Enter the number of rows for the triangle: \"))\n",
    "print_triangle(rows)\n"
   ]
  },
  {
   "cell_type": "code",
   "execution_count": null,
   "metadata": {},
   "outputs": [],
   "source": [
    "\n",
    "import random\n",
    "\n",
    "def guessing_game_while():\n",
    "    number_to_guess = random.randint(1, 100)\n",
    "    attempts = 0\n",
    "    max_attempts = 5  # You can adjust this number as needed\n",
    "\n",
    "    print(\"Guess the number between 1 and 100!\")\n",
    "\n",
    "    while attempts < max_attempts:\n",
    "        try:\n",
    "            guess = int(input(\"Enter your guess: \"))\n",
    "            attempts += 1\n",
    "\n",
    "            if guess < number_to_guess:\n",
    "                print(\"Too low! Try again.\")\n",
    "            elif guess > number_to_guess:\n",
    "                print(\"Too high! Try again.\")\n",
    "            else:\n",
    "                print(f\"Congratulations! You guessed the number {number_to_guess} in {attempts} attempts!\")\n",
    "                return\n",
    "\n",
    "        except ValueError:\n",
    "            print(\"Invalid input. Please enter a valid number.\")\n",
    "\n",
    "    print(f\"Sorry, you did not guess the number. The correct number was {number_to_guess}.\")\n",
    "\n",
    "# Run the game using while loop\n",
    "guessing_game_while()\n"
   ]
  },
  {
   "cell_type": "markdown",
   "metadata": {},
   "source": [
    "# Functions"
   ]
  },
  {
   "cell_type": "code",
   "execution_count": null,
   "metadata": {},
   "outputs": [],
   "source": [
    "# Function to determine whether a number is positive or negative\n",
    "def determine_sign(num):\n",
    "    if num > 0:\n",
    "        return \"Positive\"\n",
    "    elif num < 0:\n",
    "        return \"Negative\"\n",
    "    else:\n",
    "        return \"Zero\"\n",
    "\n",
    "# calculate the area of a square\n",
    "def area_of_square(side_length):\n",
    "    return side_length ** 2\n",
    "\n",
    "#  to calculate the area of a rectangle\n",
    "def area_of_rectangle(length, width):\n",
    "    return length * width\n",
    "\n",
    "# to calculate the area of a circle\n",
    "import math\n",
    "\n",
    "def area_of_circle(radius):\n",
    "    return math.pi * radius ** 2"
   ]
  }
 ],
 "metadata": {
  "kernelspec": {
   "display_name": "Python 3",
   "language": "python",
   "name": "python3"
  },
  "language_info": {
   "codemirror_mode": {
    "name": "ipython",
    "version": 3
   },
   "file_extension": ".py",
   "mimetype": "text/x-python",
   "name": "python",
   "nbconvert_exporter": "python",
   "pygments_lexer": "ipython3",
   "version": "3.12.3"
  }
 },
 "nbformat": 4,
 "nbformat_minor": 2
}

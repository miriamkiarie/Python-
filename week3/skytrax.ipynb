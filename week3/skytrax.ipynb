{
 "cells": [
  {
   "cell_type": "code",
   "execution_count": null,
   "metadata": {},
   "outputs": [],
   "source": [
    "url='https://www.airlinequality.com/airline-reviews/frontier-airlines'\n",
    "\n"
   ]
  },
  {
   "cell_type": "code",
   "execution_count": 16,
   "metadata": {},
   "outputs": [],
   "source": [
    "import requests"
   ]
  },
  {
   "cell_type": "code",
   "execution_count": 17,
   "metadata": {},
   "outputs": [],
   "source": [
    "responses=requests.get('https://www.airlinequality.com/airline-reviews/frontier-airlines')"
   ]
  },
  {
   "cell_type": "code",
   "execution_count": 7,
   "metadata": {},
   "outputs": [
    {
     "name": "stdout",
     "output_type": "stream",
     "text": [
      "200\n"
     ]
    }
   ],
   "source": [
    "print(responses.status_code)"
   ]
  },
  {
   "cell_type": "code",
   "execution_count": 18,
   "metadata": {},
   "outputs": [],
   "source": [
    "from bs4 import BeautifulSoup"
   ]
  },
  {
   "cell_type": "code",
   "execution_count": 30,
   "metadata": {},
   "outputs": [
    {
     "name": "stdout",
     "output_type": "stream",
     "text": [
      "Frontier Airlines Customer Reviews - SKYTRAX\n"
     ]
    }
   ],
   "source": [
    "soup=BeautifulSoup(responses.text,'lxml')\n",
    "print(soup.title.text)"
   ]
  },
  {
   "cell_type": "code",
   "execution_count": 31,
   "metadata": {},
   "outputs": [
    {
     "name": "stdout",
     "output_type": "stream",
     "text": [
      "[<div class=\"rating-10\" itemprop=\"reviewRating\" itemscope=\"\" itemtype=\"http://schema.org/Rating\">\n",
      "<span itemprop=\"ratingValue\">1</span>/<span itemprop=\"bestRating\">10</span>\n",
      "</div>, <div class=\"rating-10\" itemprop=\"reviewRating\" itemscope=\"\" itemtype=\"http://schema.org/Rating\">\n",
      "<span itemprop=\"ratingValue\">1</span>/<span itemprop=\"bestRating\">10</span>\n",
      "</div>, <div class=\"rating-10\" itemprop=\"reviewRating\" itemscope=\"\" itemtype=\"http://schema.org/Rating\">\n",
      "<span itemprop=\"ratingValue\">1</span>/<span itemprop=\"bestRating\">10</span>\n",
      "</div>, <div class=\"rating-10\" itemprop=\"reviewRating\" itemscope=\"\" itemtype=\"http://schema.org/Rating\">\n",
      "<span itemprop=\"ratingValue\">1</span>/<span itemprop=\"bestRating\">10</span>\n",
      "</div>, <div class=\"rating-10\" itemprop=\"reviewRating\" itemscope=\"\" itemtype=\"http://schema.org/Rating\">\n",
      "<span itemprop=\"ratingValue\">1</span>/<span itemprop=\"bestRating\">10</span>\n",
      "</div>, <div class=\"rating-10\" itemprop=\"reviewRating\" itemscope=\"\" itemtype=\"http://schema.org/Rating\">\n",
      "<span itemprop=\"ratingValue\">1</span>/<span itemprop=\"bestRating\">10</span>\n",
      "</div>, <div class=\"rating-10\" itemprop=\"reviewRating\" itemscope=\"\" itemtype=\"http://schema.org/Rating\">\n",
      "<span itemprop=\"ratingValue\">1</span>/<span itemprop=\"bestRating\">10</span>\n",
      "</div>, <div class=\"rating-10\" itemprop=\"reviewRating\" itemscope=\"\" itemtype=\"http://schema.org/Rating\">\n",
      "<span itemprop=\"ratingValue\">1</span>/<span itemprop=\"bestRating\">10</span>\n",
      "</div>, <div class=\"rating-10\" itemprop=\"reviewRating\" itemscope=\"\" itemtype=\"http://schema.org/Rating\">\n",
      "<span itemprop=\"ratingValue\">2</span>/<span itemprop=\"bestRating\">10</span>\n",
      "</div>, <div class=\"rating-10\" itemprop=\"reviewRating\" itemscope=\"\" itemtype=\"http://schema.org/Rating\">\n",
      "<span itemprop=\"ratingValue\">1</span>/<span itemprop=\"bestRating\">10</span>\n",
      "</div>]\n"
     ]
    }
   ],
   "source": [
    "reviews=soup.find_all('div',itemprop='reviewRating')\n",
    "print(reviews)"
   ]
  },
  {
   "cell_type": "code",
   "execution_count": 27,
   "metadata": {},
   "outputs": [
    {
     "name": "stdout",
     "output_type": "stream",
     "text": [
      "\n",
      "1/10\n",
      "\n",
      "\n",
      "1/10\n",
      "\n",
      "\n",
      "1/10\n",
      "\n",
      "\n",
      "1/10\n",
      "\n",
      "\n",
      "1/10\n",
      "\n",
      "\n",
      "1/10\n",
      "\n",
      "\n",
      "1/10\n",
      "\n",
      "\n",
      "1/10\n",
      "\n",
      "\n",
      "2/10\n",
      "\n",
      "\n",
      "1/10\n",
      "\n"
     ]
    }
   ],
   "source": [
    "for ratings in reviews:\n",
    "    print (ratings.text)"
   ]
  },
  {
   "cell_type": "code",
   "execution_count": 49,
   "metadata": {},
   "outputs": [
    {
     "name": "stdout",
     "output_type": "stream",
     "text": [
      "A:4\n"
     ]
    }
   ],
   "source": [
    "a=4\n",
    "print('A:4')"
   ]
  },
  {
   "cell_type": "code",
   "execution_count": 53,
   "metadata": {},
   "outputs": [
    {
     "name": "stdout",
     "output_type": "stream",
     "text": [
      "A:2\n"
     ]
    }
   ],
   "source": [
    "a=2\n",
    "print(f\"A:{a}\")"
   ]
  },
  {
   "cell_type": "code",
   "execution_count": 54,
   "metadata": {},
   "outputs": [
    {
     "name": "stdout",
     "output_type": "stream",
     "text": [
      "ratings:(review_value)/(best_ratings)\n",
      "ratings:(review_value)/(best_ratings)\n",
      "ratings:(review_value)/(best_ratings)\n",
      "ratings:(review_value)/(best_ratings)\n",
      "ratings:(review_value)/(best_ratings)\n",
      "ratings:(review_value)/(best_ratings)\n",
      "ratings:(review_value)/(best_ratings)\n",
      "ratings:(review_value)/(best_ratings)\n",
      "ratings:(review_value)/(best_ratings)\n",
      "ratings:(review_value)/(best_ratings)\n"
     ]
    }
   ],
   "source": [
    "for ratings in reviews:\n",
    "    review_value=ratings.find('span',itemprop='ratingValue').text\n",
    "    best_ratings=ratings.find('span',itemprop='bestRating').text\n",
    "    print(f\"ratings:(review_value)/(best_ratings)\")"
   ]
  },
  {
   "cell_type": "code",
   "execution_count": null,
   "metadata": {},
   "outputs": [],
   "source": []
  }
 ],
 "metadata": {
  "kernelspec": {
   "display_name": "Python 3",
   "language": "python",
   "name": "python3"
  },
  "language_info": {
   "codemirror_mode": {
    "name": "ipython",
    "version": 3
   },
   "file_extension": ".py",
   "mimetype": "text/x-python",
   "name": "python",
   "nbconvert_exporter": "python",
   "pygments_lexer": "ipython3",
   "version": "3.12.3"
  }
 },
 "nbformat": 4,
 "nbformat_minor": 2
}

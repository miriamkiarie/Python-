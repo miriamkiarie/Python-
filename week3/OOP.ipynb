{
 "cells": [
  {
   "cell_type": "code",
   "execution_count": null,
   "metadata": {},
   "outputs": [],
   "source": []
  },
  {
   "cell_type": "markdown",
   "metadata": {},
   "source": [
    "# object oriented programming \n",
    ".concepts : \n",
    "\n",
    "           abstraction-security,\n",
    "\n",
    "                       Easy Enhancement- Suppose in the future we want to change the logic of the implementation in class, So we don’t have to change the entire external logic which is there for the user. Just we need to make changes for the methods and it will not affect the functionality.\n",
    "\n",
    "                       Improves Easiness- It helps to use the features without knowing implementation so it improves easiness for the users to use that.\n",
    "\n",
    "                       Maintainability will improve-  Without affecting the user, it can able to perform any types of changes internally. SO maintainability will improve.\n",
    "\n",
    "           inherirance-simplifies maintainance\n",
    "\n",
    "           encapsulation-this is a security feature.hides implimentation of certail features \n",
    "\n",
    "           polymophyrism-one object can have multiple  forms\n",
    "\n",
    "-attributes are the properties of the objects\n",
    "\n",
    "-object-oriented Programming has mainly 4 components – \n",
    "\n",
    "-objects – Object is the ENTITY that makes the classes to be implemented into the program. It makes the features, properties, and behaviors of the class to be implemented. Example – A car is an object that has property color, model, brand name, fuel type, etc, and behaviors like, it runs. So these properties and behavior make an object (CAR).\n",
    "\n",
    "-classes – A class can be stated as the BLUEPRINT of the object. This states what an object can do. It contains all the features, attributes, and behavior of what the model can do. We can say that class contains the definition of the object. Example – Car color, engine type, etc. And with the definition, we can create any number of  objects.\n",
    "\n",
    "-methods – Methods are the ATTRIBUTES of the class which are defined for the specified behavior of the object. It can also modify the state of the class. Example – Method to drive a car, It changes the state of the car from parking state to running state.\n",
    "\n",
    "-instances – It is the MEMBERS OF THE CLASS who holds some values related to the objects of the class.\n",
    "\n",
    "-use of __init__-it initializes the method,constructor\n",
    "\n",
    "-use of __str__-makes it readable in string form\n",
    "\n",
    "-use of __add__-used for adding\n",
    "\n",
    "-use of self-keyword used to access a certain method \n",
    " \n",
    "-use of __del__-used to delete\n",
    "\n",
    "\n"
   ]
  },
  {
   "cell_type": "code",
   "execution_count": 58,
   "metadata": {},
   "outputs": [
    {
     "name": "stdout",
     "output_type": "stream",
     "text": [
      "Title: Gonegirl, Author: GyllianFlynn\n"
     ]
    }
   ],
   "source": [
    "#Assignment\n",
    "#Create a class called book, with attributes title and author.\n",
    "class book:\n",
    "    def __init__(self, title, author):\n",
    "        self.title = title\n",
    "        self.author = author\n",
    "\n",
    "\n",
    "    def __str__(self):\n",
    "        return f\"Title: {self.title}, Author: {self.author}\"\n",
    "\n",
    "\n",
    "book1=book('Gonegirl','GyllianFlynn')\n",
    "print(book1)\n"
   ]
  },
  {
   "cell_type": "code",
   "execution_count": 1,
   "metadata": {},
   "outputs": [],
   "source": [
    "#Create a class called Library, with attribute name, and methods for adding books to the library and displaying books added to the library\n",
    "class Library:\n",
    "    def __init__(self, name):\n",
    "        self.name = name\n",
    "        self.books = [] \n",
    "\n",
    "    def __add__(self, book):\n",
    "        self.books.append(book)\n",
    "        print(f\"Book '{book.title}' by {book.author} added to the library.\")\n",
    "\n",
    "    def display_books(self):\n",
    "        if not self.books:\n",
    "            print(\"No books available in the library.\")\n",
    "        else:\n",
    "            print(f\"Books available in library '{self.name}':\")\n",
    "            for book in self.books:\n",
    "                print(f\"- '{book.title}' by {book.author}\")\n",
    "\n",
    "\n",
    "\n"
   ]
  },
  {
   "cell_type": "code",
   "execution_count": 68,
   "metadata": {},
   "outputs": [
    {
     "name": "stdout",
     "output_type": "stream",
     "text": [
      "Book 'Gonegirl' by GyllianFlynn added to the library.\n",
      "Book 'A little Life' by Yanagihara added to the library.\n",
      "Books available in library 'Homelibrary':\n",
      "- 'Gonegirl' by GyllianFlynn\n",
      "- 'A little Life' by Yanagihara\n"
     ]
    }
   ],
   "source": [
    "#Create some book objects and add them to the library, then display the books added to the library.\n",
    "                      \n",
    "library = Library(\"Homelibrary\")\n",
    "\n",
    "# Creating instances('members') of Book\n",
    "book1 = Book(\"Gonegirl\", \"GyllianFlynn\")\n",
    "book2= Book(\"A little Life\",\"Yanagihara\")\n",
    "\n",
    "# Adding books to the library\n",
    "library.__add__(book1)\n",
    "library.__add__(book2)\n",
    "\n",
    "# Displaying books in the library\n",
    "library.display_books()\n",
    "\n"
   ]
  }
 ],
 "metadata": {
  "kernelspec": {
   "display_name": "Python 3",
   "language": "python",
   "name": "python3"
  },
  "language_info": {
   "codemirror_mode": {
    "name": "ipython",
    "version": 3
   },
   "file_extension": ".py",
   "mimetype": "text/x-python",
   "name": "python",
   "nbconvert_exporter": "python",
   "pygments_lexer": "ipython3",
   "version": "3.12.3"
  }
 },
 "nbformat": 4,
 "nbformat_minor": 2
}
